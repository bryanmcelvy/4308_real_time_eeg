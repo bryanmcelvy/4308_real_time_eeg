{
 "cells": [
  {
   "attachments": {},
   "cell_type": "markdown",
   "metadata": {},
   "source": [
    "### Imports"
   ]
  },
  {
   "cell_type": "code",
   "execution_count": 6,
   "metadata": {},
   "outputs": [],
   "source": [
    "from mne.io import read_raw_edf\n",
    "import numpy as np\n",
    "import os\n",
    "import pandas as pd"
   ]
  },
  {
   "attachments": {},
   "cell_type": "markdown",
   "metadata": {},
   "source": [
    "### Seizure Indices"
   ]
  },
  {
   "cell_type": "code",
   "execution_count": 7,
   "metadata": {},
   "outputs": [],
   "source": [
    "main_path = \"/Users/bryanmcelvy/Documents/physionet.org/files/chbmit/1.0.0\"\n",
    "my_lst = []\n",
    "\n",
    "for n in np.arange(1,24+1):\n",
    "    patient = f\"{n}\" if n > 9 else f\"0{n}\"\n",
    "    patient = f\"chb{patient}\"\n",
    "    \n",
    "    with open(main_path + f\"/{patient}/{patient}-summary.txt\") as file:\n",
    "        text = file.read().split()\n",
    "        \n",
    "    for idx, item in enumerate(text):\n",
    "        if item == \"Name:\": my_lst.append(text[idx+1])\n",
    "        elif item == \"Time:\" and text[idx+2] == \"seconds\": my_lst.append(text[idx+1])\n",
    "        "
   ]
  },
  {
   "cell_type": "code",
   "execution_count": 8,
   "metadata": {},
   "outputs": [],
   "source": [
    "my_lst2 = []\n",
    "for i in range(len(my_lst)-1):\n",
    "    if my_lst[i].isdigit() or (not my_lst[i].isdigit() and my_lst[i+1].isdigit()):\n",
    "        my_lst2.append(my_lst[i])\n",
    "my_lst2.append(my_lst[-1])\n",
    "\n",
    "my_lst3 = [[], []]\n",
    "current_file = \"\"\n",
    "\n",
    "for val in my_lst2:\n",
    "    if not val.isdigit():\n",
    "        current_file = val\n",
    "    else:\n",
    "        my_lst3[0].append(current_file)\n",
    "        my_lst3[1].append(val)\n",
    "\n",
    "df = pd.DataFrame(np.transpose(my_lst3))"
   ]
  },
  {
   "cell_type": "code",
   "execution_count": 9,
   "metadata": {},
   "outputs": [],
   "source": [
    "filenames = []\n",
    "starts = []\n",
    "ends = []\n",
    "\n",
    "for idx in list(df.index):\n",
    "    if idx % 2 == 0:\n",
    "        filenames.append(df[0][idx])\n",
    "        starts.append(df[1][idx])\n",
    "    else:\n",
    "        ends.append(df[1][idx])\n",
    "        \n",
    "seizure_idx= pd.DataFrame(data=np.transpose([filenames, starts, ends]), columns=[\"filename\", \"start\", \"end\"])"
   ]
  },
  {
   "cell_type": "code",
   "execution_count": 10,
   "metadata": {},
   "outputs": [],
   "source": [
    "# seizure_idx.to_csv(\"seizure_idx.csv\")"
   ]
  }
 ],
 "metadata": {
  "kernelspec": {
   "display_name": "Python 3.8.15 ('ml_ds')",
   "language": "python",
   "name": "python3"
  },
  "language_info": {
   "codemirror_mode": {
    "name": "ipython",
    "version": 3
   },
   "file_extension": ".py",
   "mimetype": "text/x-python",
   "name": "python",
   "nbconvert_exporter": "python",
   "pygments_lexer": "ipython3",
   "version": "3.8.15"
  },
  "orig_nbformat": 4,
  "vscode": {
   "interpreter": {
    "hash": "d080c9af64691e792f3dcccc8e84323848f93a215ae2ff4265cf51c199f116ec"
   }
  }
 },
 "nbformat": 4,
 "nbformat_minor": 2
}
