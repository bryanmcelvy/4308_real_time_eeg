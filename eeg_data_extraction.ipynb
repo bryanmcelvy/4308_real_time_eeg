{
 "cells": [
  {
   "cell_type": "code",
   "execution_count": 1,
   "metadata": {},
   "outputs": [],
   "source": [
    "from mne.io import read_raw_edf\n",
    "import numpy as np\n",
    "import pandas as pd"
   ]
  },
  {
   "cell_type": "markdown",
   "metadata": {},
   "source": [
    "03 [2996 3036]\n",
    "04 [1467 1494]\n",
    "15 [1732 1772]\n",
    "16 [1015 1066]\n",
    "18 [1720 1810]\n",
    "21 [327 420]\n",
    "26 [1862 1963]"
   ]
  },
  {
   "cell_type": "code",
   "execution_count": 2,
   "metadata": {},
   "outputs": [],
   "source": [
    "file_path = '/Users/bryanmcelvy/Documents/physionet.org/files/chbmit/1.0.0/chb01'\n",
    "file = read_raw_edf(input_fname = file_path + '/chb01_03' + '.edf', preload=False, verbose='ERROR')\n",
    "ch_names = file.ch_names\n",
    "fs = int(file.info['sfreq'])"
   ]
  },
  {
   "cell_type": "code",
   "execution_count": 3,
   "metadata": {},
   "outputs": [],
   "source": [
    "hour3 = (np.arange(2996, 3037, step=1/fs) * int(fs)).astype(int)\n",
    "hour4 = (np.arange(1467, 1495, step=1/fs) * int(fs)).astype(int)\n",
    "hour15 = (np.arange(1732, 1773, step=1/fs) * int(fs)).astype(int)\n",
    "hour16 = (np.arange(1015, 1067, step=1/fs) * int(fs)).astype(int)\n",
    "hour18 = (np.arange(1720, 1811, step=1/fs) * int(fs)).astype(int)\n",
    "hour21 = (np.arange(327, 421, step=1/fs) * int(fs)).astype(int)\n",
    "hour26 = (np.arange(1862, 1964, step=1/fs) * int(fs)).astype(int)"
   ]
  },
  {
   "cell_type": "code",
   "execution_count": 4,
   "metadata": {},
   "outputs": [
    {
     "data": {
      "text/plain": [
       "114944"
      ]
     },
     "execution_count": 4,
     "metadata": {},
     "output_type": "execute_result"
    }
   ],
   "source": [
    "num_true = len(hour3) + len(hour4) + len(hour15) + len(hour16) + len(hour18) + len(hour21) + len(hour26)\n",
    "num_true"
   ]
  },
  {
   "cell_type": "code",
   "execution_count": 5,
   "metadata": {},
   "outputs": [
    {
     "name": "stdout",
     "output_type": "stream",
     "text": [
      "(20992, 24)\n"
     ]
    }
   ],
   "source": [
    "# Import data\n",
    "file_path = '/Users/bryanmcelvy/Documents/physionet.org/files/chbmit/1.0.0/chb01'\n",
    "file = read_raw_edf(input_fname = file_path + '/chb01_03' + '.edf', preload=False, verbose='ERROR')\n",
    "x_temp1 = pd.DataFrame(np.transpose(file.get_data()), columns = file.ch_names)\n",
    "\n",
    "# Annotate rows (0 – Normal, 1 – Seizure)\n",
    "x_temp1.insert(loc=0, column='State', value = [1 if 2996 <= (i / fs) < 3037 else 0 for i in range(len(x_temp1))])\n",
    "\n",
    "# Separate Class 0 and Class 1 samples\n",
    "x_temp2 = pd.DataFrame(x_temp1.loc[x_temp1['State']==1, :])\n",
    "x_temp1 = x_temp1.drop(index=x_temp1.loc[x_temp1['State']==1, :].index)\n",
    "\n",
    "# Undersample Class 0 samples via random selection to create balanced class ratio\n",
    "x_temp2 = pd.concat([x_temp2, x_temp1.sample(n=len(x_temp2), replace=False, axis='index')]).reset_index(drop=True)\n",
    "\n",
    "x_data = x_temp2.copy()\n",
    "print(x_data.shape)"
   ]
  },
  {
   "cell_type": "code",
   "execution_count": 6,
   "metadata": {},
   "outputs": [
    {
     "name": "stdout",
     "output_type": "stream",
     "text": [
      "(35328, 24)\n"
     ]
    }
   ],
   "source": [
    "# Import data\n",
    "file_path = '/Users/bryanmcelvy/Documents/physionet.org/files/chbmit/1.0.0/chb01'\n",
    "file = read_raw_edf(input_fname = file_path + '/chb01_04' + '.edf', preload=False, verbose='ERROR')\n",
    "x_temp1 = pd.DataFrame(np.transpose(file.get_data()), columns = file.ch_names)\n",
    "\n",
    "# Annotate rows (Class 0 – Normal, Class 1 – Seizure)\n",
    "x_temp1.insert(loc=0, column='State', value = [1 if 1467 <= (i / fs) < 1495 else 0 for i in range(len(x_temp1))])\n",
    "\n",
    "# Separate Class 0 and Class 1 samples\n",
    "x_temp2 = pd.DataFrame(x_temp1.loc[x_temp1['State']==1, :]) # Isolate Class 1 samples\n",
    "x_temp1 = x_temp1.drop(index=x_temp1.loc[x_temp1['State']==1, :].index) # Remove Class 1 samples\n",
    "\n",
    "# Undersample Class 0 samples via random selection to create balanced class ratio\n",
    "x_temp2 = pd.concat([x_temp2, x_temp1.sample(n=len(x_temp2), replace=False, axis='index')]).reset_index(drop=True)\n",
    "\n",
    "x_data = pd.concat([x_data, x_temp2]).reset_index(drop=True)\n",
    "print(x_data.shape)"
   ]
  },
  {
   "cell_type": "code",
   "execution_count": 7,
   "metadata": {},
   "outputs": [
    {
     "name": "stdout",
     "output_type": "stream",
     "text": [
      "(56320, 24)\n"
     ]
    }
   ],
   "source": [
    "# Import data\n",
    "file_path = '/Users/bryanmcelvy/Documents/physionet.org/files/chbmit/1.0.0/chb01'\n",
    "file = read_raw_edf(input_fname = file_path + '/chb01_15' + '.edf', preload=False, verbose='ERROR')\n",
    "x_temp1 = pd.DataFrame(np.transpose(file.get_data()), columns = file.ch_names)\n",
    "\n",
    "# Annotate rows (Class 0 – Normal, Class 1 – Seizure)\n",
    "x_temp1.insert(loc=0, column='State', value = [1 if 1732 <= (i / fs) < 1773 else 0 for i in range(len(x_temp1))])\n",
    "\n",
    "# Separate Class 0 and Class 1 samples\n",
    "x_temp2 = pd.DataFrame(x_temp1.loc[x_temp1['State']==1, :]) # Isolate Class 1 samples\n",
    "x_temp1 = x_temp1.drop(index=x_temp1.loc[x_temp1['State']==1, :].index) # Remove Class 1 samples\n",
    "\n",
    "# Undersample Class 0 samples via random selection to create balanced class ratio\n",
    "x_temp2 = pd.concat([x_temp2, x_temp1.sample(n=len(x_temp2), replace=False, axis='index')]).reset_index(drop=True)\n",
    "\n",
    "x_data = pd.concat([x_data, x_temp2]).reset_index(drop=True)\n",
    "print(x_data.shape)"
   ]
  },
  {
   "cell_type": "code",
   "execution_count": 8,
   "metadata": {},
   "outputs": [
    {
     "name": "stdout",
     "output_type": "stream",
     "text": [
      "(82944, 24)\n"
     ]
    }
   ],
   "source": [
    "# Import data\n",
    "file_path = '/Users/bryanmcelvy/Documents/physionet.org/files/chbmit/1.0.0/chb01'\n",
    "file = read_raw_edf(input_fname = file_path + '/chb01_16' + '.edf', preload=False, verbose='ERROR')\n",
    "x_temp1 = pd.DataFrame(np.transpose(file.get_data()), columns = file.ch_names)\n",
    "\n",
    "# Annotate rows (Class 0 – Normal, Class 1 – Seizure)\n",
    "x_temp1.insert(loc=0, column='State', value = [1 if 1015 <= (i / fs) < 1067 else 0 for i in range(len(x_temp1))])\n",
    "\n",
    "# Separate Class 0 and Class 1 samples\n",
    "x_temp2 = pd.DataFrame(x_temp1.loc[x_temp1['State']==1, :]) # Isolate Class 1 samples\n",
    "x_temp1 = x_temp1.drop(index=x_temp1.loc[x_temp1['State']==1, :].index) # Remove Class 1 samples\n",
    "\n",
    "# Undersample Class 0 samples via random selection to create balanced class ratio\n",
    "x_temp2 = pd.concat([x_temp2, x_temp1.sample(n=len(x_temp2), replace=False, axis='index')]).reset_index(drop=True)\n",
    "\n",
    "x_data = pd.concat([x_data, x_temp2]).reset_index(drop=True)\n",
    "print(x_data.shape)"
   ]
  },
  {
   "cell_type": "code",
   "execution_count": 9,
   "metadata": {},
   "outputs": [
    {
     "name": "stdout",
     "output_type": "stream",
     "text": [
      "(129536, 24)\n"
     ]
    }
   ],
   "source": [
    "# Import data\n",
    "file_path = '/Users/bryanmcelvy/Documents/physionet.org/files/chbmit/1.0.0/chb01'\n",
    "file = read_raw_edf(input_fname = file_path + '/chb01_18' + '.edf', preload=False, verbose='ERROR')\n",
    "x_temp1 = pd.DataFrame(np.transpose(file.get_data()), columns = file.ch_names)\n",
    "\n",
    "# Annotate rows (Class 0 – Normal, Class 1 – Seizure)\n",
    "x_temp1.insert(loc=0, column='State', value = [1 if 1720 <= (i / fs) < 1811 else 0 for i in range(len(x_temp1))])\n",
    "\n",
    "# Separate Class 0 and Class 1 samples\n",
    "x_temp2 = pd.DataFrame(x_temp1.loc[x_temp1['State']==1, :]) # Isolate Class 1 samples\n",
    "x_temp1 = x_temp1.drop(index=x_temp1.loc[x_temp1['State']==1, :].index) # Remove Class 1 samples\n",
    "\n",
    "# Undersample Class 0 samples via random selection to create balanced class ratio\n",
    "x_temp2 = pd.concat([x_temp2, x_temp1.sample(n=len(x_temp2), replace=False, axis='index')]).reset_index(drop=True)\n",
    "\n",
    "x_data = pd.concat([x_data, x_temp2]).reset_index(drop=True)\n",
    "print(x_data.shape)"
   ]
  },
  {
   "cell_type": "code",
   "execution_count": 10,
   "metadata": {},
   "outputs": [
    {
     "name": "stdout",
     "output_type": "stream",
     "text": [
      "(177664, 24)\n"
     ]
    }
   ],
   "source": [
    "# Import data\n",
    "file_path = '/Users/bryanmcelvy/Documents/physionet.org/files/chbmit/1.0.0/chb01'\n",
    "file = read_raw_edf(input_fname = file_path + '/chb01_21' + '.edf', preload=False, verbose='ERROR')\n",
    "x_temp1 = pd.DataFrame(np.transpose(file.get_data()), columns = file.ch_names)\n",
    "\n",
    "# Annotate rows (Class 0 – Normal, Class 1 – Seizure)\n",
    "x_temp1.insert(loc=0, column='State', value = [1 if 327 <= (i / fs) < 421 else 0 for i in range(len(x_temp1))])\n",
    "\n",
    "# Separate Class 0 and Class 1 samples\n",
    "x_temp2 = pd.DataFrame(x_temp1.loc[x_temp1['State']==1, :]) # Isolate Class 1 samples\n",
    "x_temp1 = x_temp1.drop(index=x_temp1.loc[x_temp1['State']==1, :].index) # Remove Class 1 samples\n",
    "\n",
    "# Undersample Class 0 samples via random selection to create balanced class ratio\n",
    "x_temp2 = pd.concat([x_temp2, x_temp1.sample(n=len(x_temp2), replace=False, axis='index')]).reset_index(drop=True)\n",
    "\n",
    "x_data = pd.concat([x_data, x_temp2]).reset_index(drop=True)\n",
    "print(x_data.shape)"
   ]
  },
  {
   "cell_type": "code",
   "execution_count": 11,
   "metadata": {},
   "outputs": [
    {
     "name": "stdout",
     "output_type": "stream",
     "text": [
      "(229888, 24)\n"
     ]
    }
   ],
   "source": [
    "# Import data\n",
    "file_path = '/Users/bryanmcelvy/Documents/physionet.org/files/chbmit/1.0.0/chb01'\n",
    "file = read_raw_edf(input_fname = file_path + '/chb01_26' + '.edf', preload=False, verbose='ERROR')\n",
    "x_temp1 = pd.DataFrame(np.transpose(file.get_data()), columns = file.ch_names)\n",
    "\n",
    "# Annotate rows (Class 0 – Normal, Class 1 – Seizure)\n",
    "x_temp1.insert(loc=0, column='State', value = [1 if 1862 <= (i / fs) < 1964 else 0 for i in range(len(x_temp1))])\n",
    "\n",
    "# Separate Class 0 and Class 1 samples\n",
    "x_temp2 = pd.DataFrame(x_temp1.loc[x_temp1['State']==1, :]) # Isolate Class 1 samples\n",
    "x_temp1 = x_temp1.drop(index=x_temp1.loc[x_temp1['State']==1, :].index) # Remove Class 1 samples\n",
    "\n",
    "# Undersample Class 0 samples via random selection to create balanced class ratio\n",
    "x_temp2 = pd.concat([x_temp2, x_temp1.sample(n=len(x_temp2), replace=False, axis='index')]).reset_index(drop=True)\n",
    "\n",
    "x_data = pd.concat([x_data, x_temp2]).reset_index(drop=True)\n",
    "print(x_data.shape)"
   ]
  },
  {
   "cell_type": "code",
   "execution_count": 12,
   "metadata": {},
   "outputs": [
    {
     "data": {
      "text/html": [
       "<div>\n",
       "<style scoped>\n",
       "    .dataframe tbody tr th:only-of-type {\n",
       "        vertical-align: middle;\n",
       "    }\n",
       "\n",
       "    .dataframe tbody tr th {\n",
       "        vertical-align: top;\n",
       "    }\n",
       "\n",
       "    .dataframe thead th {\n",
       "        text-align: right;\n",
       "    }\n",
       "</style>\n",
       "<table border=\"1\" class=\"dataframe\">\n",
       "  <thead>\n",
       "    <tr style=\"text-align: right;\">\n",
       "      <th></th>\n",
       "      <th>State</th>\n",
       "      <th>FP1-F7</th>\n",
       "      <th>F7-T7</th>\n",
       "      <th>T7-P7</th>\n",
       "      <th>P7-O1</th>\n",
       "      <th>FP1-F3</th>\n",
       "      <th>F3-C3</th>\n",
       "      <th>C3-P3</th>\n",
       "      <th>P3-O1</th>\n",
       "      <th>FP2-F4</th>\n",
       "      <th>...</th>\n",
       "      <th>F8-T8</th>\n",
       "      <th>T8-P8-0</th>\n",
       "      <th>P8-O2</th>\n",
       "      <th>FZ-CZ</th>\n",
       "      <th>CZ-PZ</th>\n",
       "      <th>P7-T7</th>\n",
       "      <th>T7-FT9</th>\n",
       "      <th>FT9-FT10</th>\n",
       "      <th>FT10-T8</th>\n",
       "      <th>T8-P8-1</th>\n",
       "    </tr>\n",
       "  </thead>\n",
       "  <tbody>\n",
       "    <tr>\n",
       "      <th>0</th>\n",
       "      <td>1</td>\n",
       "      <td>57.240537</td>\n",
       "      <td>45.909646</td>\n",
       "      <td>55.677656</td>\n",
       "      <td>3.321123</td>\n",
       "      <td>-21.684982</td>\n",
       "      <td>42.393162</td>\n",
       "      <td>84.590965</td>\n",
       "      <td>57.631258</td>\n",
       "      <td>10.354090</td>\n",
       "      <td>...</td>\n",
       "      <td>45.518926</td>\n",
       "      <td>32.625153</td>\n",
       "      <td>-57.240537</td>\n",
       "      <td>42.783883</td>\n",
       "      <td>113.894994</td>\n",
       "      <td>-55.286935</td>\n",
       "      <td>18.949939</td>\n",
       "      <td>24.810745</td>\n",
       "      <td>6.446886</td>\n",
       "      <td>32.625153</td>\n",
       "    </tr>\n",
       "    <tr>\n",
       "      <th>1</th>\n",
       "      <td>1</td>\n",
       "      <td>53.333333</td>\n",
       "      <td>50.989011</td>\n",
       "      <td>56.459096</td>\n",
       "      <td>2.539683</td>\n",
       "      <td>-19.731380</td>\n",
       "      <td>45.518926</td>\n",
       "      <td>88.888889</td>\n",
       "      <td>50.207570</td>\n",
       "      <td>25.592186</td>\n",
       "      <td>...</td>\n",
       "      <td>39.267399</td>\n",
       "      <td>21.294261</td>\n",
       "      <td>-51.379731</td>\n",
       "      <td>35.750916</td>\n",
       "      <td>114.676435</td>\n",
       "      <td>-56.068376</td>\n",
       "      <td>15.824176</td>\n",
       "      <td>36.923077</td>\n",
       "      <td>9.181929</td>\n",
       "      <td>21.294261</td>\n",
       "    </tr>\n",
       "    <tr>\n",
       "      <th>2</th>\n",
       "      <td>1</td>\n",
       "      <td>45.909646</td>\n",
       "      <td>59.194139</td>\n",
       "      <td>54.896215</td>\n",
       "      <td>-0.976801</td>\n",
       "      <td>-23.247863</td>\n",
       "      <td>50.207570</td>\n",
       "      <td>88.888889</td>\n",
       "      <td>43.174603</td>\n",
       "      <td>38.876679</td>\n",
       "      <td>...</td>\n",
       "      <td>46.300366</td>\n",
       "      <td>10.744811</td>\n",
       "      <td>-70.134310</td>\n",
       "      <td>25.592186</td>\n",
       "      <td>113.504274</td>\n",
       "      <td>-54.505495</td>\n",
       "      <td>3.711844</td>\n",
       "      <td>54.896215</td>\n",
       "      <td>12.698413</td>\n",
       "      <td>10.744811</td>\n",
       "    </tr>\n",
       "    <tr>\n",
       "      <th>3</th>\n",
       "      <td>1</td>\n",
       "      <td>42.393162</td>\n",
       "      <td>64.273504</td>\n",
       "      <td>52.161172</td>\n",
       "      <td>-4.102564</td>\n",
       "      <td>-22.075702</td>\n",
       "      <td>54.505495</td>\n",
       "      <td>83.028083</td>\n",
       "      <td>40.048840</td>\n",
       "      <td>45.518926</td>\n",
       "      <td>...</td>\n",
       "      <td>50.989011</td>\n",
       "      <td>3.711844</td>\n",
       "      <td>-81.855922</td>\n",
       "      <td>20.122100</td>\n",
       "      <td>113.894994</td>\n",
       "      <td>-51.770452</td>\n",
       "      <td>-6.446886</td>\n",
       "      <td>68.962149</td>\n",
       "      <td>15.824176</td>\n",
       "      <td>3.711844</td>\n",
       "    </tr>\n",
       "    <tr>\n",
       "      <th>4</th>\n",
       "      <td>1</td>\n",
       "      <td>46.300366</td>\n",
       "      <td>58.021978</td>\n",
       "      <td>46.691087</td>\n",
       "      <td>-2.539683</td>\n",
       "      <td>-16.214896</td>\n",
       "      <td>53.333333</td>\n",
       "      <td>80.293040</td>\n",
       "      <td>31.062271</td>\n",
       "      <td>50.989011</td>\n",
       "      <td>...</td>\n",
       "      <td>40.830281</td>\n",
       "      <td>-5.665446</td>\n",
       "      <td>-76.776557</td>\n",
       "      <td>21.684982</td>\n",
       "      <td>115.457875</td>\n",
       "      <td>-46.300366</td>\n",
       "      <td>2.930403</td>\n",
       "      <td>73.650794</td>\n",
       "      <td>12.698413</td>\n",
       "      <td>-5.665446</td>\n",
       "    </tr>\n",
       "  </tbody>\n",
       "</table>\n",
       "<p>5 rows × 24 columns</p>\n",
       "</div>"
      ],
      "text/plain": [
       "   State     FP1-F7      F7-T7      T7-P7     P7-O1     FP1-F3      F3-C3  \\\n",
       "0      1  57.240537  45.909646  55.677656  3.321123 -21.684982  42.393162   \n",
       "1      1  53.333333  50.989011  56.459096  2.539683 -19.731380  45.518926   \n",
       "2      1  45.909646  59.194139  54.896215 -0.976801 -23.247863  50.207570   \n",
       "3      1  42.393162  64.273504  52.161172 -4.102564 -22.075702  54.505495   \n",
       "4      1  46.300366  58.021978  46.691087 -2.539683 -16.214896  53.333333   \n",
       "\n",
       "       C3-P3      P3-O1     FP2-F4  ...      F8-T8    T8-P8-0      P8-O2  \\\n",
       "0  84.590965  57.631258  10.354090  ...  45.518926  32.625153 -57.240537   \n",
       "1  88.888889  50.207570  25.592186  ...  39.267399  21.294261 -51.379731   \n",
       "2  88.888889  43.174603  38.876679  ...  46.300366  10.744811 -70.134310   \n",
       "3  83.028083  40.048840  45.518926  ...  50.989011   3.711844 -81.855922   \n",
       "4  80.293040  31.062271  50.989011  ...  40.830281  -5.665446 -76.776557   \n",
       "\n",
       "       FZ-CZ       CZ-PZ      P7-T7     T7-FT9   FT9-FT10    FT10-T8  \\\n",
       "0  42.783883  113.894994 -55.286935  18.949939  24.810745   6.446886   \n",
       "1  35.750916  114.676435 -56.068376  15.824176  36.923077   9.181929   \n",
       "2  25.592186  113.504274 -54.505495   3.711844  54.896215  12.698413   \n",
       "3  20.122100  113.894994 -51.770452  -6.446886  68.962149  15.824176   \n",
       "4  21.684982  115.457875 -46.300366   2.930403  73.650794  12.698413   \n",
       "\n",
       "     T8-P8-1  \n",
       "0  32.625153  \n",
       "1  21.294261  \n",
       "2  10.744811  \n",
       "3   3.711844  \n",
       "4  -5.665446  \n",
       "\n",
       "[5 rows x 24 columns]"
      ]
     },
     "execution_count": 12,
     "metadata": {},
     "output_type": "execute_result"
    }
   ],
   "source": [
    "x_data.iloc[:, 1:] = x_data.iloc[:, 1:].multiply(1E6)\n",
    "x_data.head()"
   ]
  },
  {
   "cell_type": "code",
   "execution_count": 13,
   "metadata": {},
   "outputs": [],
   "source": [
    "x_data.to_csv(path_or_buf='data.csv', index=False)"
   ]
  }
 ],
 "metadata": {
  "kernelspec": {
   "display_name": "Python 3.8.15 ('ml_ds')",
   "language": "python",
   "name": "python3"
  },
  "language_info": {
   "codemirror_mode": {
    "name": "ipython",
    "version": 3
   },
   "file_extension": ".py",
   "mimetype": "text/x-python",
   "name": "python",
   "nbconvert_exporter": "python",
   "pygments_lexer": "ipython3",
   "version": "3.8.15"
  },
  "orig_nbformat": 4,
  "vscode": {
   "interpreter": {
    "hash": "d080c9af64691e792f3dcccc8e84323848f93a215ae2ff4265cf51c199f116ec"
   }
  }
 },
 "nbformat": 4,
 "nbformat_minor": 2
}
