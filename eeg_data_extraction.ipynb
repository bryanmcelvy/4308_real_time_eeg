{
 "cells": [
  {
   "cell_type": "code",
   "execution_count": 5,
   "metadata": {},
   "outputs": [],
   "source": [
    "from mne.io import read_raw_edf\n",
    "import numpy as np\n",
    "import os\n",
    "import pandas as pd\n"
   ]
  },
  {
   "cell_type": "code",
   "execution_count": 6,
   "metadata": {},
   "outputs": [],
   "source": [
    "''' Create dataset '''\n",
    "main_path = \"/Users/bryanmcelvy/Documents/physionet.org/files/chbmit/1.0.0\"\n",
    "data = pd.DataFrame()\n",
    "channels = [\"T7-P7\", \"T8-P8-0\"]\n",
    "file = read_raw_edf(input_fname = f\"{main_path}/chb01/chb01_03.edf\", preload=False, verbose='ERROR')\n",
    "fs = int(file.info['sfreq'])\n",
    "\n",
    "seizure_idx = pd.read_csv(\"seizure_idx.csv\")\n",
    "filename_list = list(seizure_idx[\"filename\"].unique())\n",
    "filename_list = [filename_list[0]]\n"
   ]
  },
  {
   "cell_type": "code",
   "execution_count": 7,
   "metadata": {},
   "outputs": [],
   "source": [
    "''' Import data '''\n",
    "for fname in filename_list:\n",
    "    start_end_idx = seizure_idx.loc[seizure_idx[\"filename\"] == fname, [\"start\", \"end\"]].astype(int).multiply(fs).values\n",
    "    \n",
    "    # Find row indexes for start of 1-second windows for class 1\n",
    "    window_1_idx = np.array([], dtype=int) # Starting idx of each 1-second window for class 1\n",
    "    for [n_start, n_end] in start_end_idx:\n",
    "        window_1_idx = np.concatenate([window_1_idx, np.arange(start=n_start, stop=n_end, step=fs, dtype=int)])\n",
    "        \n",
    "    # Load data\n",
    "    file = read_raw_edf(input_fname=f\"{main_path}/{fname[:5]}/{fname}\", preload=True, verbose='ERROR')\n",
    "    \n",
    "    # Omit files without selected channels\n",
    "    channel_idx = [] # Idx of selected channels\n",
    "    for channel in channels:\n",
    "        if (channel not in file.ch_names):\n",
    "            hasChannels = False\n",
    "            break\n",
    "        else:\n",
    "            hasChannels = True\n",
    "            channel_idx.append(file.ch_names.index(channel)) \n",
    "    if not hasChannels: \n",
    "        print(f\"Skipping {fname}\")\n",
    "        continue\n",
    "    \n",
    "    # Find row indexes for start of 1-second windows for class 1\n",
    "    rng = np.random.default_rng(seed=42)\n",
    "    window_0_idx = np.array([idx for idx in np.arange(file.n_times, step=fs, dtype=int) if idx not in window_1_idx], dtype=int)\n",
    "    \n",
    "    # Balance dataset via random sampling\n",
    "    if len(window_0_idx) > len(window_1_idx):\n",
    "        window_0_idx = np.sort(rng.choice(a=window_0_idx, size=len(window_1_idx), replace=False))\n",
    "    elif len(window_0_idx) < len(window_1_idx):\n",
    "         window_1_idx = np.sort(rng.choice(a=window_1_idx,size=len(window_0_idx), replace=False))\n",
    "    \n",
    "    temp_state = np.concatenate([[0] * len(window_0_idx) * fs, [1] * len(window_1_idx) * fs], dtype=int)\n",
    "    temp_fname = [fname] * len(temp_state)\n",
    "    temp_df = pd.DataFrame(data={\"filename\":temp_fname,\n",
    "                                    \"state\":temp_state})\n",
    "    \n",
    "    # Add labeled dataset to DataFrame\n",
    "    for ch_idx in channel_idx:\n",
    "        raw_data = file.get_data()[ch_idx]\n",
    "        temp_v = np.concatenate(\n",
    "            [np.array([raw_data[i:i+fs] for i in window_0_idx]), np.array([raw_data[i:i+fs] for i in window_1_idx])], \n",
    "            axis=None, dtype=np.float32) * 1e6\n",
    "        temp_df[file.ch_names[ch_idx]] = temp_v\n",
    "    \n",
    "    data = pd.concat([data, temp_df])\n",
    "    "
   ]
  },
  {
   "cell_type": "code",
   "execution_count": 8,
   "metadata": {},
   "outputs": [],
   "source": [
    "''' Save to CSV'''\n",
    "data.to_csv(path_or_buf=f\"dataset.csv\", index=False)"
   ]
  }
 ],
 "metadata": {
  "kernelspec": {
   "display_name": "Python 3.8.15 ('ml_ds')",
   "language": "python",
   "name": "python3"
  },
  "language_info": {
   "codemirror_mode": {
    "name": "ipython",
    "version": 3
   },
   "file_extension": ".py",
   "mimetype": "text/x-python",
   "name": "python",
   "nbconvert_exporter": "python",
   "pygments_lexer": "ipython3",
   "version": "3.8.15"
  },
  "orig_nbformat": 4,
  "vscode": {
   "interpreter": {
    "hash": "d080c9af64691e792f3dcccc8e84323848f93a215ae2ff4265cf51c199f116ec"
   }
  }
 },
 "nbformat": 4,
 "nbformat_minor": 2
}
