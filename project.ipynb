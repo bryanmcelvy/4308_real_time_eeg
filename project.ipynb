{
  "cells": [
    {
      "cell_type": "markdown",
      "metadata": {
        "id": "view-in-github",
        "colab_type": "text"
      },
      "source": [
        "<a href=\"https://colab.research.google.com/github/bryanmcelvy/4308_real_time_eeg/blob/main/project.ipynb\" target=\"_parent\"><img src=\"https://colab.research.google.com/assets/colab-badge.svg\" alt=\"Open In Colab\"/></a>"
      ]
    },
    {
      "cell_type": "markdown",
      "source": [
        "# Real-Time Seizure Classification Model"
      ],
      "metadata": {
        "id": "o1UPn77Si3Ca"
      }
    },
    {
      "cell_type": "markdown",
      "source": [
        "#### Imports"
      ],
      "metadata": {
        "id": "FYM8qObI65ee"
      }
    },
    {
      "cell_type": "markdown",
      "metadata": {
        "id": "ldIjCgMFCe5Y"
      },
      "source": [
        "##### Import libraries"
      ]
    },
    {
      "cell_type": "code",
      "execution_count": null,
      "metadata": {
        "colab": {
          "base_uri": "https://localhost:8080/"
        },
        "id": "ssGj8h-oB6e2",
        "outputId": "413e589a-fd3a-4f35-af50-509129d57596"
      },
      "outputs": [
        {
          "output_type": "stream",
          "name": "stdout",
          "text": [
            "Cloning into '4308_real_time_eeg'...\n",
            "remote: Enumerating objects: 87, done.\u001b[K\n",
            "remote: Counting objects: 100% (22/22), done.\u001b[K\n",
            "remote: Compressing objects: 100% (18/18), done.\u001b[K\n",
            "remote: Total 87 (delta 11), reused 11 (delta 4), pack-reused 65\u001b[K\n",
            "Unpacking objects: 100% (87/87), done.\n"
          ]
        }
      ],
      "source": [
        "''' Import libraries'''\n",
        "# Built-in Python libraries\n",
        "import os\n",
        "import sys\n",
        "\n",
        "# Custom Functions/Classes\n",
        "if '/content/4308_real_time_eeg' not in sys.path:\n",
        "  !git clone https://github.com/bryanmcelvy/4308_real_time_eeg.git\n",
        "  sys.path.append('/content/4308_real_time_eeg')\n",
        "\n",
        "from feature_extraction import *\n",
        "from log_reg_funcs import *\n",
        "\n",
        "# 3rd-Party Libraries\n",
        "import matplotlib.pyplot as plt\n",
        "import numpy as np\n",
        "import pandas as pd\n",
        "from scipy import signal\n",
        "from seaborn import heatmap\n",
        "from sklearn.metrics import confusion_matrix\n",
        "from sklearn.model_selection import train_test_split\n",
        "import tensorflow as tf"
      ]
    },
    {
      "cell_type": "markdown",
      "metadata": {
        "id": "Q48PBfkwCxQC"
      },
      "source": [
        "##### Import dataset"
      ]
    },
    {
      "cell_type": "code",
      "source": [
        "'''Import dataset'''\n",
        "\n",
        "filename = '/content/4308_real_time_eeg/data.csv'\n",
        "data = pd.read_csv(filename) # Preprocessed EEG Data\n",
        "\n",
        "state = data['State'].to_numpy() # Correct labels for each time segment\n",
        "data.drop(labels='State', axis='columns', inplace=True)\n",
        "\n",
        "# Drop all but one channel\n",
        "data = data[\"FP1-F7\"]\n",
        "\n",
        "data.head()"
      ],
      "metadata": {
        "colab": {
          "base_uri": "https://localhost:8080/"
        },
        "id": "2dbPy32tZy6q",
        "outputId": "e5009252-5e53-4968-b1df-b989c5e75532"
      },
      "execution_count": null,
      "outputs": [
        {
          "output_type": "execute_result",
          "data": {
            "text/plain": [
              "0    57.240537\n",
              "1    53.333333\n",
              "2    45.909646\n",
              "3    42.393162\n",
              "4    46.300366\n",
              "Name: FP1-F7, dtype: float64"
            ]
          },
          "metadata": {},
          "execution_count": 2
        }
      ]
    },
    {
      "cell_type": "code",
      "source": [
        "data.keys()"
      ],
      "metadata": {
        "colab": {
          "base_uri": "https://localhost:8080/"
        },
        "id": "lNVNS9pjBprk",
        "outputId": "dcfe70c9-86f3-40cb-bb07-c31c86263acf"
      },
      "execution_count": null,
      "outputs": [
        {
          "output_type": "execute_result",
          "data": {
            "text/plain": [
              "RangeIndex(start=0, stop=217856, step=1)"
            ]
          },
          "metadata": {},
          "execution_count": 3
        }
      ]
    },
    {
      "cell_type": "markdown",
      "metadata": {
        "id": "8Tp6mp8dDJLV"
      },
      "source": [
        "#### Feature Extraction"
      ]
    },
    {
      "cell_type": "code",
      "execution_count": null,
      "metadata": {
        "id": "mP8Wq_Rr18gP"
      },
      "outputs": [],
      "source": [
        "ch_names = list(data.keys()) # Channel Names\n",
        "fs = 256 # Sampling Frequency [Hz]\n",
        "\n",
        "feat_names = ['Area', 'Normalized Decay', 'Line Length', \n",
        "            'Mean Energy', 'Average Peak Amplitude', 'Average Valley Amplitude',\n",
        "            'Normalized Peak Number', 'Peak Variation', 'Root Mean Square']\n",
        "\n",
        "func_names = [findArea, findNormDecay, findLineLength, \n",
        "         findMeanEnergy, findAvgPeakAmp, findAvgValleyAmp, \n",
        "         findNormPeakNum, findPeakVariation, findRootMeanSquare]\n",
        "\n",
        "num_segments = int( len(data) / fs ) # number of time segments (851)\n",
        "num_features = len(feat_names) # number of features (9)\n",
        "num_channels = len(ch_names) # number of channels (23)\n",
        "\n",
        "time = np.linspace(start=0, stop=num_segments-1, num=num_segments, dtype=int)\n",
        "y_data = np.array([1 if state[int(t*fs)] == 1 else 0 for t in time])\n",
        "\n",
        "class_labels = {0:'Not Seizure', 1:'Seizure'} # classes to be predicted for each time segment\n",
        "num_classes = len(class_labels)"
      ]
    },
    {
      "cell_type": "code",
      "execution_count": null,
      "metadata": {
        "id": "__S0vIxXB6e-"
      },
      "outputs": [],
      "source": [
        "# Create np array with dimensions (num_segments X num_features X num_channels) (851 X 9 X 23)\n",
        "x_data = np.zeros(\n",
        "    shape=(\n",
        "        num_segments,\n",
        "        num_features, \n",
        "        num_channels\n",
        "    ), dtype=np.float64)\n",
        "print(x_data.shape)\n",
        "\n",
        "# Perform feature extraction for each time segment across all channels\n",
        "for t in time:\n",
        "    for feat_num, _ in enumerate(feat_names):\n",
        "        for ch_num, ch in enumerate(ch_names):\n",
        "            start_idx = t * int(fs)\n",
        "            end_idx = start_idx + int(fs)\n",
        "            x_data[t][feat_num][ch_num] = func_names[feat_num](data[ch][start_idx:end_idx])\n"
      ]
    },
    {
      "cell_type": "markdown",
      "metadata": {
        "id": "MACto5tnqclq"
      },
      "source": [
        "#### Dataset Preparation"
      ]
    },
    {
      "cell_type": "code",
      "execution_count": null,
      "metadata": {
        "id": "Ku1mGq5Ld7xp"
      },
      "outputs": [],
      "source": [
        "# Split into training/testing/validation sets\n",
        "x_train, x_tv, y_train, y_tv = train_test_split(\n",
        "    x_data, y_data,\n",
        "    train_size=0.50, test_size=0.50,      # 80:20 split between training and test/validation sets\n",
        "    shuffle=True, random_state=42         # shuffles data using same random seed every time\n",
        ")\n",
        "\n",
        "x_test, x_val, y_test, y_val = train_test_split(\n",
        "    x_tv, y_tv,\n",
        "    train_size = 0.25, test_size = 0.25,   # Even split btw test and validation sets\n",
        "    shuffle=True, random_state=42         # same as above\n",
        ")"
      ]
    },
    {
      "cell_type": "code",
      "source": [
        "# Store data in tensors\n",
        "x_train = tf.convert_to_tensor(x_train, dtype=np.float32)\n",
        "x_test = tf.convert_to_tensor(x_test, dtype=np.float32)\n",
        "x_val = tf.convert_to_tensor(x_val, dtype=np.float32)\n",
        "\n",
        "y_train = tf.convert_to_tensor(y_train, dtype=np.float32)\n",
        "y_test = tf.convert_to_tensor(y_test, dtype=np.float32)\n",
        "y_val = tf.convert_to_tensor(y_val, dtype=np.float32)"
      ],
      "metadata": {
        "id": "SwdoA7v5vVH_"
      },
      "execution_count": null,
      "outputs": []
    },
    {
      "cell_type": "code",
      "source": [
        "# Reshape\n",
        "x_train = tf.reshape( x_train, shape=( x_train.shape[0], x_train.shape[1]*x_train.shape[2] ) )\n",
        "x_test = tf.reshape( x_test, shape=( x_test.shape[0], x_test.shape[1]*x_test.shape[2]) )\n",
        "x_val = tf.reshape( x_val, shape=( x_val.shape[0], x_val.shape[1]*x_val.shape[2]) )"
      ],
      "metadata": {
        "id": "Ea2YiThN57tp"
      },
      "execution_count": null,
      "outputs": []
    },
    {
      "cell_type": "code",
      "source": [
        "# Normalize\n",
        "x_norm_train = Normalizer(x_train)\n",
        "x_norm_test = Normalizer(x_test)\n",
        "x_norm_val = Normalizer(x_val)\n",
        "\n",
        "x_train_norm = x_norm_train.norm(x_train)\n",
        "x_test_norm = x_norm_val.norm(x_test)\n",
        "x_val_norm = x_norm_val.norm(x_val)"
      ],
      "metadata": {
        "id": "Dmw-bVlFxY2R"
      },
      "execution_count": null,
      "outputs": []
    },
    {
      "cell_type": "code",
      "execution_count": null,
      "metadata": {
        "id": "pzFfUEzR6PZ6"
      },
      "outputs": [],
      "source": [
        "# Load datasets into Dataset objects\n",
        "train_data = tf.data.Dataset.from_tensor_slices((x_train_norm, y_train))\n",
        "test_data = tf.data.Dataset.from_tensor_slices((x_test_norm, y_test))\n",
        "val_data = tf.data.Dataset.from_tensor_slices((x_val_norm, y_val))\n",
        "\n",
        "# Randomize and separate into batches\n",
        "batch_size = 400 # Train 400 time segments at a time\n",
        "\n",
        "train_data = train_data.shuffle(buffer_size=x_train_norm.shape[0], seed=42).batch(batch_size=batch_size)\n",
        "test_data = test_data.shuffle(buffer_size=x_test_norm.shape[0], seed=42).batch(batch_size=batch_size)\n",
        "val_data = val_data.shuffle(buffer_size=x_val_norm.shape[0], seed=42).batch(batch_size=batch_size)"
      ]
    },
    {
      "cell_type": "markdown",
      "metadata": {
        "id": "Oi22s-LA_55a"
      },
      "source": [
        "#### Training"
      ]
    },
    {
      "cell_type": "code",
      "source": [
        "log_reg_model = LogRegModel()\n",
        "\n",
        "loop = TrainingLoop()\n",
        "log_reg_model = loop.train(train_data=train_data, val_data=val_data, test_data=test_data, num_epochs=200, learn_rate=1, model=log_reg_model, output=True)"
      ],
      "metadata": {
        "id": "3pmve9xgZLZr"
      },
      "execution_count": null,
      "outputs": []
    },
    {
      "cell_type": "markdown",
      "metadata": {
        "id": "2p0R5Pl6nHbv"
      },
      "source": [
        "#### Performance Evaluation"
      ]
    },
    {
      "cell_type": "code",
      "source": [
        "# Plot loss and accuracy\n",
        "loop.plot()"
      ],
      "metadata": {
        "id": "hJtQhFZ0_8o5"
      },
      "execution_count": null,
      "outputs": []
    },
    {
      "cell_type": "code",
      "source": [
        "#@title\n",
        "# Create heatmap\n",
        "y_pred_train = log_reg_model(x_train_norm, train=False)\n",
        "y_pred_test = log_reg_model(x_test_norm, train=False)\n",
        "\n",
        "y_class_train = predict(y_pred_train)\n",
        "y_class_test = predict(y_pred_test)\n",
        "\n",
        "con_mat_train = confusion(y_pred=y_class_train, y_true=y_train, class_labels=class_labels, title='Training')\n",
        "con_mat_test = confusion(y_pred=y_class_test, y_true=y_test, class_labels=class_labels, title='test')"
      ],
      "metadata": {
        "id": "U9r4hV1EmuEg"
      },
      "execution_count": null,
      "outputs": []
    },
    {
      "cell_type": "code",
      "source": [
        "TN = con_mat_test[0][0]\n",
        "TP = con_mat_test[1][1]\n",
        "FN = con_mat_test[1][0]\n",
        "FP = con_mat_test[0][1]\n",
        "\n",
        "recall = TP / (TP + FN) # How many seizures were predicted correctly\n",
        "precision = TP / (TP + FP) # How many predicted seizures were actually positive\n",
        "f_score = 2 * (recall * precision) / (recall + precision) # Evaluates whether recall and precision are balanced\n",
        "\n",
        "print(f\"Recall = {recall:.3}\\nPrecision = {precision:.3}\\nF-Score = {f_score:.3}\")"
      ],
      "metadata": {
        "id": "kZKGaZZFtQth"
      },
      "execution_count": null,
      "outputs": []
    }
  ],
  "metadata": {
    "colab": {
      "provenance": [],
      "collapsed_sections": [
        "ldIjCgMFCe5Y",
        "Q48PBfkwCxQC",
        "8Tp6mp8dDJLV",
        "MACto5tnqclq",
        "Oi22s-LA_55a"
      ],
      "toc_visible": true,
      "include_colab_link": true
    },
    "gpuClass": "standard",
    "kernelspec": {
      "display_name": "Python 3.8.15 ('ml_ds')",
      "language": "python",
      "name": "python3"
    },
    "language_info": {
      "codemirror_mode": {
        "name": "ipython",
        "version": 3
      },
      "file_extension": ".py",
      "mimetype": "text/x-python",
      "name": "python",
      "nbconvert_exporter": "python",
      "pygments_lexer": "ipython3",
      "version": "3.8.15"
    },
    "orig_nbformat": 4,
    "vscode": {
      "interpreter": {
        "hash": "d080c9af64691e792f3dcccc8e84323848f93a215ae2ff4265cf51c199f116ec"
      }
    }
  },
  "nbformat": 4,
  "nbformat_minor": 0
}